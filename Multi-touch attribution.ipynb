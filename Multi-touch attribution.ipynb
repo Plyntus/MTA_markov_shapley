{
 "cells": [
  {
   "cell_type": "markdown",
   "id": "7c1003f6",
   "metadata": {},
   "source": [
    "# Marketing analysis. Multi-touch attribution\n"
   ]
  },
  {
   "cell_type": "markdown",
   "id": "3571ce24",
   "metadata": {},
   "source": [
    "# Data preps"
   ]
  },
  {
   "cell_type": "code",
   "execution_count": 1,
   "id": "801410ad",
   "metadata": {},
   "outputs": [],
   "source": [
    "import pandas as pd\n",
    "import numpy as np\n",
    "from scipy import stats\n",
    "#from pandasql import sqldf\n",
    "import itertools\n",
    "from collections import defaultdict\n",
    "from itertools import permutations,combinations"
   ]
  },
  {
   "cell_type": "code",
   "execution_count": 2,
   "id": "41ff5f6f",
   "metadata": {},
   "outputs": [],
   "source": [
    "df = pd.read_csv('mta_data.csv')\n",
    "df['steps'] = df.path.apply(lambda x: x[0:].split(' > '))"
   ]
  },
  {
   "cell_type": "markdown",
   "id": "915f57d3",
   "metadata": {},
   "source": [
    "Data -- is the preprocessed conversion chains. For each chain we know # of conversions, their value and so on"
   ]
  },
  {
   "cell_type": "code",
   "execution_count": 3,
   "id": "2e756af4",
   "metadata": {},
   "outputs": [
    {
     "data": {
      "text/html": [
       "<div>\n",
       "<style scoped>\n",
       "    .dataframe tbody tr th:only-of-type {\n",
       "        vertical-align: middle;\n",
       "    }\n",
       "\n",
       "    .dataframe tbody tr th {\n",
       "        vertical-align: top;\n",
       "    }\n",
       "\n",
       "    .dataframe thead th {\n",
       "        text-align: right;\n",
       "    }\n",
       "</style>\n",
       "<table border=\"1\" class=\"dataframe\">\n",
       "  <thead>\n",
       "    <tr style=\"text-align: right;\">\n",
       "      <th></th>\n",
       "      <th>path</th>\n",
       "      <th>total_conversions</th>\n",
       "      <th>total_conversion_value</th>\n",
       "      <th>total_null</th>\n",
       "      <th>steps</th>\n",
       "    </tr>\n",
       "  </thead>\n",
       "  <tbody>\n",
       "    <tr>\n",
       "      <th>0</th>\n",
       "      <td>eta &gt; iota &gt; alpha &gt; eta</td>\n",
       "      <td>1</td>\n",
       "      <td>0.244</td>\n",
       "      <td>3</td>\n",
       "      <td>[eta, iota, alpha, eta]</td>\n",
       "    </tr>\n",
       "    <tr>\n",
       "      <th>1</th>\n",
       "      <td>iota &gt; iota &gt; iota &gt; iota</td>\n",
       "      <td>2</td>\n",
       "      <td>3.195</td>\n",
       "      <td>6</td>\n",
       "      <td>[iota, iota, iota, iota]</td>\n",
       "    </tr>\n",
       "    <tr>\n",
       "      <th>2</th>\n",
       "      <td>alpha &gt; iota &gt; alpha &gt; alpha &gt; alpha &gt; iota &gt; ...</td>\n",
       "      <td>2</td>\n",
       "      <td>6.754</td>\n",
       "      <td>6</td>\n",
       "      <td>[alpha, iota, alpha, alpha, alpha, iota, alpha...</td>\n",
       "    </tr>\n",
       "    <tr>\n",
       "      <th>3</th>\n",
       "      <td>beta &gt; eta</td>\n",
       "      <td>1</td>\n",
       "      <td>2.402</td>\n",
       "      <td>3</td>\n",
       "      <td>[beta, eta]</td>\n",
       "    </tr>\n",
       "    <tr>\n",
       "      <th>4</th>\n",
       "      <td>iota &gt; eta &gt; theta &gt; lambda &gt; lambda &gt; theta &gt;...</td>\n",
       "      <td>0</td>\n",
       "      <td>0.000</td>\n",
       "      <td>2</td>\n",
       "      <td>[iota, eta, theta, lambda, lambda, theta, lambda]</td>\n",
       "    </tr>\n",
       "  </tbody>\n",
       "</table>\n",
       "</div>"
      ],
      "text/plain": [
       "                                                path  total_conversions  \\\n",
       "0                           eta > iota > alpha > eta                  1   \n",
       "1                          iota > iota > iota > iota                  2   \n",
       "2  alpha > iota > alpha > alpha > alpha > iota > ...                  2   \n",
       "3                                         beta > eta                  1   \n",
       "4  iota > eta > theta > lambda > lambda > theta >...                  0   \n",
       "\n",
       "   total_conversion_value  total_null  \\\n",
       "0                   0.244           3   \n",
       "1                   3.195           6   \n",
       "2                   6.754           6   \n",
       "3                   2.402           3   \n",
       "4                   0.000           2   \n",
       "\n",
       "                                               steps  \n",
       "0                            [eta, iota, alpha, eta]  \n",
       "1                           [iota, iota, iota, iota]  \n",
       "2  [alpha, iota, alpha, alpha, alpha, iota, alpha...  \n",
       "3                                        [beta, eta]  \n",
       "4  [iota, eta, theta, lambda, lambda, theta, lambda]  "
      ]
     },
     "execution_count": 3,
     "metadata": {},
     "output_type": "execute_result"
    }
   ],
   "source": [
    "df.head()"
   ]
  },
  {
   "cell_type": "code",
   "execution_count": 4,
   "id": "7ac6682c",
   "metadata": {},
   "outputs": [
    {
     "data": {
      "text/plain": [
       "<AxesSubplot:>"
      ]
     },
     "execution_count": 4,
     "metadata": {},
     "output_type": "execute_result"
    },
    {
     "data": {
      "image/png": "[encoded data removed]",
      "text/plain": [
       "<Figure size 432x288 with 1 Axes>"
      ]
     },
     "metadata": {
      "needs_background": "light"
     },
     "output_type": "display_data"
    }
   ],
   "source": [
    "df.total_conversions.hist()"
   ]
  },
  {
   "cell_type": "markdown",
   "id": "a6f49d4b",
   "metadata": {},
   "source": [
    "### Deleting the outliers"
   ]
  },
  {
   "cell_type": "code",
   "execution_count": 5,
   "id": "929ca5a6",
   "metadata": {},
   "outputs": [],
   "source": [
    "#df = df[(np.abs(stats.zscore(df['total_conversions'])) < 3)]\n",
    "df = df[df['total_conversions'] < 5]"
   ]
  },
  {
   "cell_type": "code",
   "execution_count": 6,
   "id": "cce6693f",
   "metadata": {},
   "outputs": [
    {
     "data": {
      "text/plain": [
       "<AxesSubplot:>"
      ]
     },
     "execution_count": 6,
     "metadata": {},
     "output_type": "execute_result"
    },
    {
     "data": {
      "image/png": "[encoded data removed]",
      "text/plain": [
       "<Figure size 432x288 with 1 Axes>"
      ]
     },
     "metadata": {
      "needs_background": "light"
     },
     "output_type": "display_data"
    }
   ],
   "source": [
    "df.total_conversions.hist()"
   ]
  },
  {
   "cell_type": "code",
   "execution_count": 32,
   "id": "75874e78",
   "metadata": {},
   "outputs": [
    {
     "data": {
      "text/plain": [
       "['eta',\n",
       " 'iota',\n",
       " 'alpha',\n",
       " 'beta',\n",
       " 'theta',\n",
       " 'lambda',\n",
       " 'kappa',\n",
       " 'zeta',\n",
       " 'epsilon',\n",
       " 'gamma',\n",
       " 'delta',\n",
       " 'mi']"
      ]
     },
     "execution_count": 32,
     "metadata": {},
     "output_type": "execute_result"
    }
   ],
   "source": [
    "def get_channels(channel_lists):\n",
    "    channels = []\n",
    "    for steps in channel_lists:\n",
    "        for step in steps:\n",
    "            if step in channels: pass\n",
    "            else: channels.append(step) \n",
    "    return channels\n",
    "\n",
    "get_channels(df.steps)"
   ]
  },
  {
   "cell_type": "markdown",
   "id": "5e5cfd38",
   "metadata": {},
   "source": [
    "# Markov Chains"
   ]
  },
  {
   "cell_type": "markdown",
   "id": "73adc4eb",
   "metadata": {},
   "source": [
    "Source:\n",
    "\n",
    "https://github.com/jmwoloso/pychattr\n"
   ]
  },
  {
   "cell_type": "code",
   "execution_count": 62,
   "id": "247db481",
   "metadata": {},
   "outputs": [],
   "source": [
    "#pip install pychattr"
   ]
  },
  {
   "cell_type": "code",
   "execution_count": 67,
   "id": "69e778bc",
   "metadata": {},
   "outputs": [
    {
     "data": {
      "text/plain": [
       "<pychattr.channel_attribution.markov.MarkovModel at 0x7f79c2f723a0>"
      ]
     },
     "execution_count": 67,
     "metadata": {},
     "output_type": "execute_result"
    }
   ],
   "source": [
    "from pychattr.channel_attribution import MarkovModel\n",
    "\n",
    "path_feature=\"path\"\n",
    "conversion_feature=\"total_conversions\"\n",
    "null_feature=None\n",
    "revenue_feature=\"total_conversion_value\"\n",
    "cost_feature=None\n",
    "separator=\">\"\n",
    "k_order=1\n",
    "n_simulations=10000\n",
    "max_steps=None\n",
    "return_transition_probs=True\n",
    "random_state=26\n",
    "\n",
    "# instantiate the model\n",
    "mm = MarkovModel(path_feature=path_feature,\n",
    "                 conversion_feature=conversion_feature,\n",
    "                 null_feature=null_feature,\n",
    "                 revenue_feature=revenue_feature,\n",
    "                 cost_feature=cost_feature,\n",
    "                 separator=separator,\n",
    "                 k_order=k_order,\n",
    "                 n_simulations=n_simulations,\n",
    "                 max_steps=max_steps,\n",
    "                 return_transition_probs=return_transition_probs,\n",
    "                 random_state=random_state)\n",
    "\n",
    "# fit the model\n",
    "mm.fit(df)"
   ]
  },
  {
   "cell_type": "code",
   "execution_count": 68,
   "id": "56cdd2fd",
   "metadata": {},
   "outputs": [
    {
     "name": "stdout",
     "output_type": "stream",
     "text": [
      "   channel_name  total_conversions  total_revenue\n",
      "0           eta        1807.850113    7908.155669\n",
      "1          iota        1715.904683    7465.950481\n",
      "2         alpha        1272.783062    5684.244695\n",
      "3          beta        1512.640706    6615.384648\n",
      "4         theta         957.278007    4173.873998\n",
      "5        lambda         701.122344    3152.243141\n",
      "6         kappa         191.271096     867.779822\n",
      "7          zeta         269.378585    1168.001639\n",
      "8       epsilon         389.922426    1642.372083\n",
      "9         gamma         121.158861     646.610819\n",
      "10        delta           2.767588      10.232374\n",
      "11           mi           0.922529       2.734575\n"
     ]
    }
   ],
   "source": [
    "# view the simulation results\n",
    "print(mm.attribution_model_)"
   ]
  },
  {
   "cell_type": "code",
   "execution_count": 70,
   "id": "2adbd12b",
   "metadata": {},
   "outputs": [
    {
     "name": "stdout",
     "output_type": "stream",
     "text": [
      "   channel_name  removal_effect  removal_effect_value\n",
      "0           eta          0.5879              0.584404\n",
      "1          iota          0.5580              0.551726\n",
      "2         alpha          0.4139              0.420060\n",
      "3          beta          0.4919              0.488870\n",
      "4         theta          0.3113              0.308445\n",
      "5        lambda          0.2280              0.232947\n",
      "6         kappa          0.0622              0.064128\n",
      "7          zeta          0.0876              0.086314\n",
      "8       epsilon          0.1268              0.121370\n",
      "9         gamma          0.0394              0.047784\n",
      "10        delta          0.0009              0.000756\n",
      "11           mi          0.0003              0.000202\n"
     ]
    }
   ],
   "source": [
    "# view the removal effects\n",
    "print(mm.removal_effects_)"
   ]
  },
  {
   "cell_type": "markdown",
   "id": "50dac343",
   "metadata": {},
   "source": [
    "Eta, iota and alpha are the champions"
   ]
  },
  {
   "cell_type": "markdown",
   "id": "6b296c36",
   "metadata": {},
   "source": [
    "# Shapley"
   ]
  },
  {
   "cell_type": "markdown",
   "id": "4dc6845d",
   "metadata": {},
   "source": [
    "Source:\n",
    "\n",
    "https://www.kaggle.com/code/jasonbrewster/shapley-value-attribution-modeling/notebook"
   ]
  },
  {
   "cell_type": "markdown",
   "id": "cba25c83",
   "metadata": {},
   "source": [
    "## Data prep"
   ]
  },
  {
   "cell_type": "code",
   "execution_count": 7,
   "id": "867d0cfc",
   "metadata": {},
   "outputs": [],
   "source": [
    "for_shap = df.groupby(['path']).sum().reset_index().drop(['total_null'],axis=1)\n",
    "for_shap = for_shap.rename(columns={\"path\": \"channels_subset\"})"
   ]
  },
  {
   "cell_type": "code",
   "execution_count": 8,
   "id": "775b681b",
   "metadata": {},
   "outputs": [
    {
     "data": {
      "text/html": [
       "<div>\n",
       "<style scoped>\n",
       "    .dataframe tbody tr th:only-of-type {\n",
       "        vertical-align: middle;\n",
       "    }\n",
       "\n",
       "    .dataframe tbody tr th {\n",
       "        vertical-align: top;\n",
       "    }\n",
       "\n",
       "    .dataframe thead th {\n",
       "        text-align: right;\n",
       "    }\n",
       "</style>\n",
       "<table border=\"1\" class=\"dataframe\">\n",
       "  <thead>\n",
       "    <tr style=\"text-align: right;\">\n",
       "      <th></th>\n",
       "      <th>channels_subset</th>\n",
       "      <th>total_conversions</th>\n",
       "      <th>total_conversion_value</th>\n",
       "    </tr>\n",
       "  </thead>\n",
       "  <tbody>\n",
       "    <tr>\n",
       "      <th>0</th>\n",
       "      <td>alpha &gt; alpha &gt; alpha &gt; alpha &gt; alpha &gt; alpha ...</td>\n",
       "      <td>4</td>\n",
       "      <td>8.096000</td>\n",
       "    </tr>\n",
       "    <tr>\n",
       "      <th>1</th>\n",
       "      <td>alpha &gt; alpha &gt; alpha &gt; alpha &gt; alpha &gt; alpha ...</td>\n",
       "      <td>4</td>\n",
       "      <td>10.296000</td>\n",
       "    </tr>\n",
       "    <tr>\n",
       "      <th>2</th>\n",
       "      <td>alpha &gt; alpha &gt; alpha &gt; alpha &gt; alpha &gt; alpha ...</td>\n",
       "      <td>2</td>\n",
       "      <td>12.649706</td>\n",
       "    </tr>\n",
       "    <tr>\n",
       "      <th>3</th>\n",
       "      <td>alpha &gt; alpha &gt; alpha &gt; alpha &gt; alpha &gt; alpha ...</td>\n",
       "      <td>1</td>\n",
       "      <td>11.440000</td>\n",
       "    </tr>\n",
       "    <tr>\n",
       "      <th>4</th>\n",
       "      <td>alpha &gt; alpha &gt; alpha &gt; alpha &gt; alpha &gt; alpha ...</td>\n",
       "      <td>1</td>\n",
       "      <td>3.500000</td>\n",
       "    </tr>\n",
       "    <tr>\n",
       "      <th>...</th>\n",
       "      <td>...</td>\n",
       "      <td>...</td>\n",
       "      <td>...</td>\n",
       "    </tr>\n",
       "    <tr>\n",
       "      <th>5363</th>\n",
       "      <td>zeta &gt; zeta &gt; zeta &gt; iota &gt; beta &gt; iota &gt; iota...</td>\n",
       "      <td>1</td>\n",
       "      <td>3.956000</td>\n",
       "    </tr>\n",
       "    <tr>\n",
       "      <th>5364</th>\n",
       "      <td>zeta &gt; zeta &gt; zeta &gt; iota &gt; zeta &gt; zeta &gt; alph...</td>\n",
       "      <td>1</td>\n",
       "      <td>2.300000</td>\n",
       "    </tr>\n",
       "    <tr>\n",
       "      <th>5365</th>\n",
       "      <td>zeta &gt; zeta &gt; zeta &gt; lambda &gt; lambda &gt; theta &gt;...</td>\n",
       "      <td>1</td>\n",
       "      <td>5.240000</td>\n",
       "    </tr>\n",
       "    <tr>\n",
       "      <th>5366</th>\n",
       "      <td>zeta &gt; zeta &gt; zeta &gt; zeta &gt; iota &gt; zeta &gt; alph...</td>\n",
       "      <td>1</td>\n",
       "      <td>2.400000</td>\n",
       "    </tr>\n",
       "    <tr>\n",
       "      <th>5367</th>\n",
       "      <td>zeta &gt; zeta &gt; zeta &gt; zeta &gt; zeta &gt; zeta &gt; zeta...</td>\n",
       "      <td>2</td>\n",
       "      <td>10.259000</td>\n",
       "    </tr>\n",
       "  </tbody>\n",
       "</table>\n",
       "<p>5368 rows × 3 columns</p>\n",
       "</div>"
      ],
      "text/plain": [
       "                                        channels_subset  total_conversions  \\\n",
       "0     alpha > alpha > alpha > alpha > alpha > alpha ...                  4   \n",
       "1     alpha > alpha > alpha > alpha > alpha > alpha ...                  4   \n",
       "2     alpha > alpha > alpha > alpha > alpha > alpha ...                  2   \n",
       "3     alpha > alpha > alpha > alpha > alpha > alpha ...                  1   \n",
       "4     alpha > alpha > alpha > alpha > alpha > alpha ...                  1   \n",
       "...                                                 ...                ...   \n",
       "5363  zeta > zeta > zeta > iota > beta > iota > iota...                  1   \n",
       "5364  zeta > zeta > zeta > iota > zeta > zeta > alph...                  1   \n",
       "5365  zeta > zeta > zeta > lambda > lambda > theta >...                  1   \n",
       "5366  zeta > zeta > zeta > zeta > iota > zeta > alph...                  1   \n",
       "5367  zeta > zeta > zeta > zeta > zeta > zeta > zeta...                  2   \n",
       "\n",
       "      total_conversion_value  \n",
       "0                   8.096000  \n",
       "1                  10.296000  \n",
       "2                  12.649706  \n",
       "3                  11.440000  \n",
       "4                   3.500000  \n",
       "...                      ...  \n",
       "5363                3.956000  \n",
       "5364                2.300000  \n",
       "5365                5.240000  \n",
       "5366                2.400000  \n",
       "5367               10.259000  \n",
       "\n",
       "[5368 rows x 3 columns]"
      ]
     },
     "execution_count": 8,
     "metadata": {},
     "output_type": "execute_result"
    }
   ],
   "source": [
    "for_shap"
   ]
  },
  {
   "cell_type": "markdown",
   "id": "1df663b5",
   "metadata": {},
   "source": [
    "## Declare functions"
   ]
  },
  {
   "cell_type": "markdown",
   "id": "e46a4551",
   "metadata": {},
   "source": [
    "Create a function that returns all possible combination of the channel"
   ]
  },
  {
   "cell_type": "code",
   "execution_count": 9,
   "id": "75cab616",
   "metadata": {},
   "outputs": [],
   "source": [
    "def power_set(List):\n",
    "    PS = [list(j) for i in range(len(List)) for j in itertools.combinations(List, i+1)]\n",
    "    return PS"
   ]
  },
  {
   "cell_type": "markdown",
   "id": "558eaa02",
   "metadata": {},
   "source": [
    "Return all the possible subsets of a set of channels"
   ]
  },
  {
   "cell_type": "code",
   "execution_count": 10,
   "id": "93d7c061",
   "metadata": {},
   "outputs": [],
   "source": [
    "def subsets(s):\n",
    "    '''\n",
    "    This function returns all the possible subsets of a set of channels.\n",
    "    input :\n",
    "            - s: a set of channels.\n",
    "    '''\n",
    "    if len(s)==1:\n",
    "        return s\n",
    "    else:\n",
    "        sub_channels=[]\n",
    "        for i in range(1,len(s)+1):\n",
    "            sub_channels.extend(map(list,itertools.combinations(s, i)))\n",
    "    return list(map(\",\".join,map(sorted,sub_channels)))"
   ]
  },
  {
   "cell_type": "markdown",
   "id": "3f865f64",
   "metadata": {},
   "source": [
    "Computes the worth of each coalition."
   ]
  },
  {
   "cell_type": "code",
   "execution_count": 11,
   "id": "560e9807",
   "metadata": {},
   "outputs": [],
   "source": [
    "def v_function(A,C_values):\n",
    "    '''\n",
    "    This function computes the worth of each coalition.\n",
    "    inputs:\n",
    "            - A : a coalition of channels.\n",
    "            - C_values : A dictionnary containing the number of conversions that each subset of channels has yielded.\n",
    "    '''\n",
    "    subsets_of_A = subsets(A)\n",
    "    #print(subsets_of_A)\n",
    "    #exit()\n",
    "    worth_of_A=0\n",
    "    for subset in subsets_of_A:\n",
    "        #print(\"subset:\", subset)\n",
    "        if subset in C_values:\n",
    "            #print(\"subset:\", subset, \"; Value:\", C_values[subset])\n",
    "            worth_of_A += C_values[subset]\n",
    "    return worth_of_A"
   ]
  },
  {
   "cell_type": "markdown",
   "id": "3248d026",
   "metadata": {},
   "source": [
    "Calculate the factorial of a number (a non-negative integer)"
   ]
  },
  {
   "cell_type": "code",
   "execution_count": 12,
   "id": "1c595d2f",
   "metadata": {},
   "outputs": [],
   "source": [
    "def factorial(n):\n",
    "    if n == 0:\n",
    "        return 1\n",
    "    else:\n",
    "        return n * factorial(n-1)"
   ]
  },
  {
   "cell_type": "markdown",
   "id": "a5692501",
   "metadata": {},
   "source": [
    "Get all the channels"
   ]
  },
  {
   "cell_type": "code",
   "execution_count": 45,
   "id": "b5bfc54f",
   "metadata": {},
   "outputs": [],
   "source": [
    "def get_channels(channel_lists):\n",
    "    channels = []\n",
    "    for steps in channel_lists:\n",
    "        for step in steps:\n",
    "            if step in channels: pass\n",
    "            else: channels.append(step) \n",
    "    return channels"
   ]
  },
  {
   "cell_type": "code",
   "execution_count": 52,
   "id": "364f70f8",
   "metadata": {},
   "outputs": [],
   "source": [
    "def calculate_shapley(df, col_name, channel_list = None):\n",
    "    '''\n",
    "    This function returns the shapley values\n",
    "            - df: A dataframe with the two columns: ['channels_subset', 'conversion_sum'].\n",
    "            The channel_subset column is the channel(s) associated with the conversion and the count is the sum of the conversions. \n",
    "            - col_name: A string that is the name of the column with conversions\n",
    "            **Make sure that that each value in channel_subset is in alphabetical order. Email,PPC and PPC,Email are the same \n",
    "            in regards to this analysis and should be combined under Email,PPC.\n",
    "            ***Be careful with the distinct number of channels because this can signifcantly slow the perfomance of this function.\n",
    "            Remember the total possible combinations of channels is 2^(n) where n is the number of channels. If you have 30 channels\n",
    "            this is 1,073,741,824 combinations. \n",
    "            \n",
    "    '''\n",
    "    \n",
    "    '''\n",
    "    ### This function does not see all the channels because looks only for \"singles\"\n",
    "    ### In this dataset 6 channels out of 12 are not listed as \"single\" i.e. no user paths\n",
    "    ### in which this channel would be alone. I provided (below) solution that fixes that\n",
    "    '''\n",
    " \n",
    "    if channel_list == None: \n",
    "        #questionable part\n",
    "        df['channels'] = df['channels_subset'].apply(lambda x: x if len(x.split(\">\")) == 1 else np.nan) #here's the delimiter\n",
    "        channels = list(df['channels'].dropna().unique())\n",
    "        #end of questionable part\n",
    "    else:\n",
    "        channels = channel_list\n",
    "    \n",
    "    c_values = df.set_index(\"channels_subset\").to_dict()[col_name]\n",
    "    v_values = {}\n",
    "    for A in power_set(channels):\n",
    "        v_values[','.join(sorted(A))] = v_function(A,c_values)\n",
    "    #print(v_values)\n",
    "    n=len(channels)\n",
    "    shapley_values = defaultdict(int)\n",
    "\n",
    "    for channel in channels:\n",
    "        for A in v_values.keys():\n",
    "            #print(A)\n",
    "            if channel not in A.split(\",\"):\n",
    "                #print(channel)\n",
    "                cardinal_A=len(A.split(\",\"))\n",
    "                A_with_channel = A.split(\",\")\n",
    "                A_with_channel.append(channel)            \n",
    "                A_with_channel=\",\".join(sorted(A_with_channel))\n",
    "                # Weight = |S|!(n-|S|-1)!/n!\n",
    "                weight = (factorial(cardinal_A)*factorial(n-cardinal_A-1)/factorial(n))\n",
    "                # Marginal contribution = v(S U {i})-v(S)\n",
    "                contrib = (v_values[A_with_channel]-v_values[A]) \n",
    "                shapley_values[channel] += weight * contrib\n",
    "        # Add the term corresponding to the empty set\n",
    "        shapley_values[channel]+= v_values[channel]/n \n",
    "        #print('finished channel ',channel)\n",
    "        \n",
    "    return shapley_values"
   ]
  },
  {
   "cell_type": "code",
   "execution_count": 53,
   "id": "64e346b3",
   "metadata": {},
   "outputs": [],
   "source": [
    "def visualize (df, col_name, channel_list = None):\n",
    "    import matplotlib.pyplot as plt\n",
    "    from pandas.plotting import scatter_matrix\n",
    "    %matplotlib inline\n",
    "    import seaborn as sns\n",
    "    result = pd.DataFrame(list(dict(calculate_shapley(df, col_name, channel_list)).items()),columns = ['Channel','Contributions'])\n",
    "    # Visualization\n",
    "    plt.subplots(figsize=(18, 6))\n",
    "    sns.barplot(x='Channel', y='Contributions', data=result)\n",
    "    plt.show()"
   ]
  },
  {
   "cell_type": "markdown",
   "id": "7fa8b3de",
   "metadata": {},
   "source": [
    "## Implementing"
   ]
  },
  {
   "cell_type": "markdown",
   "id": "1417f677",
   "metadata": {},
   "source": [
    "### by a \"total conversions\" value"
   ]
  },
  {
   "cell_type": "code",
   "execution_count": 58,
   "id": "73490804",
   "metadata": {},
   "outputs": [
    {
     "data": {
      "image/png": "[encoded data removed]",
      "text/plain": [
       "<Figure size 1296x432 with 1 Axes>"
      ]
     },
     "metadata": {
      "needs_background": "light"
     },
     "output_type": "display_data"
    }
   ],
   "source": [
    "shap = for_shap[['channels_subset','total_conversions']]\n",
    "visualize(shap,'total_conversions',get_channels(df.steps))"
   ]
  },
  {
   "cell_type": "markdown",
   "id": "b0d4e614",
   "metadata": {},
   "source": [
    "### by a \"total conversions\" value"
   ]
  },
  {
   "cell_type": "code",
   "execution_count": 115,
   "id": "710c759c",
   "metadata": {},
   "outputs": [
    {
     "data": {
      "image/png": "[encoded data removed]",
      "text/plain": [
       "<Figure size 1296x432 with 1 Axes>"
      ]
     },
     "metadata": {
      "needs_background": "light"
     },
     "output_type": "display_data"
    }
   ],
   "source": [
    "shap = for_shap[['channels_subset','total_conversion_value']]\n",
    "visualize(shap,'total_conversion_value',get_channels(df.steps))"
   ]
  },
  {
   "cell_type": "markdown",
   "id": "69296def",
   "metadata": {},
   "source": [
    "In both cases eta and beta are the champions "
   ]
  },
  {
   "cell_type": "markdown",
   "id": "292cf90e",
   "metadata": {},
   "source": [
    "# Last-click (baseline)"
   ]
  },
  {
   "cell_type": "code",
   "execution_count": 104,
   "id": "ee0f2ea2",
   "metadata": {},
   "outputs": [],
   "source": [
    "df['last_channel'] = df.steps.apply(lambda x:x[-1])\n",
    "channels = get_channels(df.steps)\n",
    "conversions = dict.fromkeys(channels,0)\n",
    "for index, row in df.iterrows():\n",
    "    conversions[row['last_channel']]+=1"
   ]
  },
  {
   "cell_type": "code",
   "execution_count": 125,
   "id": "4ca397fb",
   "metadata": {},
   "outputs": [
    {
     "data": {
      "text/plain": [
       "{'eta': 3259,\n",
       " 'iota': 1670,\n",
       " 'alpha': 1729,\n",
       " 'beta': 761,\n",
       " 'theta': 657,\n",
       " 'lambda': 756,\n",
       " 'kappa': 252,\n",
       " 'zeta': 99,\n",
       " 'epsilon': 523,\n",
       " 'gamma': 61,\n",
       " 'delta': 6,\n",
       " 'mi': 1}"
      ]
     },
     "execution_count": 125,
     "metadata": {},
     "output_type": "execute_result"
    }
   ],
   "source": [
    "conversions"
   ]
  },
  {
   "cell_type": "markdown",
   "id": "226f2ee8",
   "metadata": {},
   "source": [
    "Champions are eta, alpha and iota"
   ]
  },
  {
   "cell_type": "markdown",
   "id": "e7cc202a",
   "metadata": {},
   "source": [
    "# Summary"
   ]
  },
  {
   "cell_type": "code",
   "execution_count": 159,
   "id": "6751fcf1",
   "metadata": {},
   "outputs": [],
   "source": [
    "summarize = pd.DataFrame.from_dict(conversions, orient='index',columns=['last click'])\n",
    "\n",
    "shap = for_shap[['channels_subset','total_conversion_value']]\n",
    "shap_res = calculate_shapley(shap,'total_conversion_value',get_channels(df.steps))\n",
    "shap_res = pd.DataFrame.from_dict(shap_res, orient='index',columns=['Shapley'])\n",
    "\n",
    "markov_res = mm.attribution_model_.set_index('channel_name').drop('total_revenue',axis=1)\n",
    "markov_res.rename(columns={\"total_conversions\": \"Markov\"},inplace=True)"
   ]
  },
  {
   "cell_type": "code",
   "execution_count": 160,
   "id": "9304bdd9",
   "metadata": {},
   "outputs": [],
   "source": [
    "summary = pd.merge(pd.merge(summarize, shap_res, left_index=True, right_index=True),\n",
    "          markov_res, left_index=True, right_index=True)"
   ]
  },
  {
   "cell_type": "code",
   "execution_count": 161,
   "id": "eabe8bbb",
   "metadata": {},
   "outputs": [
    {
     "data": {
      "text/html": [
       "<div>\n",
       "<style scoped>\n",
       "    .dataframe tbody tr th:only-of-type {\n",
       "        vertical-align: middle;\n",
       "    }\n",
       "\n",
       "    .dataframe tbody tr th {\n",
       "        vertical-align: top;\n",
       "    }\n",
       "\n",
       "    .dataframe thead th {\n",
       "        text-align: right;\n",
       "    }\n",
       "</style>\n",
       "<table border=\"1\" class=\"dataframe\">\n",
       "  <thead>\n",
       "    <tr style=\"text-align: right;\">\n",
       "      <th></th>\n",
       "      <th>last click</th>\n",
       "      <th>Shapley</th>\n",
       "      <th>Markov</th>\n",
       "    </tr>\n",
       "  </thead>\n",
       "  <tbody>\n",
       "    <tr>\n",
       "      <th>eta</th>\n",
       "      <td>3259</td>\n",
       "      <td>2658.221043</td>\n",
       "      <td>1807.850113</td>\n",
       "    </tr>\n",
       "    <tr>\n",
       "      <th>iota</th>\n",
       "      <td>1670</td>\n",
       "      <td>0.000000</td>\n",
       "      <td>1715.904683</td>\n",
       "    </tr>\n",
       "    <tr>\n",
       "      <th>alpha</th>\n",
       "      <td>1729</td>\n",
       "      <td>0.000000</td>\n",
       "      <td>1272.783062</td>\n",
       "    </tr>\n",
       "    <tr>\n",
       "      <th>beta</th>\n",
       "      <td>761</td>\n",
       "      <td>682.070267</td>\n",
       "      <td>1512.640706</td>\n",
       "    </tr>\n",
       "    <tr>\n",
       "      <th>theta</th>\n",
       "      <td>657</td>\n",
       "      <td>0.000000</td>\n",
       "      <td>957.278007</td>\n",
       "    </tr>\n",
       "    <tr>\n",
       "      <th>lambda</th>\n",
       "      <td>756</td>\n",
       "      <td>0.000000</td>\n",
       "      <td>701.122344</td>\n",
       "    </tr>\n",
       "    <tr>\n",
       "      <th>kappa</th>\n",
       "      <td>252</td>\n",
       "      <td>15.788750</td>\n",
       "      <td>191.271096</td>\n",
       "    </tr>\n",
       "    <tr>\n",
       "      <th>zeta</th>\n",
       "      <td>99</td>\n",
       "      <td>0.000000</td>\n",
       "      <td>269.378585</td>\n",
       "    </tr>\n",
       "    <tr>\n",
       "      <th>epsilon</th>\n",
       "      <td>523</td>\n",
       "      <td>15.784000</td>\n",
       "      <td>389.922426</td>\n",
       "    </tr>\n",
       "    <tr>\n",
       "      <th>gamma</th>\n",
       "      <td>61</td>\n",
       "      <td>28.248667</td>\n",
       "      <td>121.158861</td>\n",
       "    </tr>\n",
       "    <tr>\n",
       "      <th>delta</th>\n",
       "      <td>6</td>\n",
       "      <td>0.000000</td>\n",
       "      <td>2.767588</td>\n",
       "    </tr>\n",
       "    <tr>\n",
       "      <th>mi</th>\n",
       "      <td>1</td>\n",
       "      <td>5.273000</td>\n",
       "      <td>0.922529</td>\n",
       "    </tr>\n",
       "  </tbody>\n",
       "</table>\n",
       "</div>"
      ],
      "text/plain": [
       "         last click      Shapley       Markov\n",
       "eta            3259  2658.221043  1807.850113\n",
       "iota           1670     0.000000  1715.904683\n",
       "alpha          1729     0.000000  1272.783062\n",
       "beta            761   682.070267  1512.640706\n",
       "theta           657     0.000000   957.278007\n",
       "lambda          756     0.000000   701.122344\n",
       "kappa           252    15.788750   191.271096\n",
       "zeta             99     0.000000   269.378585\n",
       "epsilon         523    15.784000   389.922426\n",
       "gamma            61    28.248667   121.158861\n",
       "delta             6     0.000000     2.767588\n",
       "mi                1     5.273000     0.922529"
      ]
     },
     "execution_count": 161,
     "metadata": {},
     "output_type": "execute_result"
    }
   ],
   "source": [
    "summary"
   ]
  },
  {
   "cell_type": "markdown",
   "id": "89548101",
   "metadata": {},
   "source": [
    "One may see, that all models chose eta as the best channel but weren't so sure about the other channels "
   ]
  }
 ],
 "metadata": {
  "kernelspec": {
   "display_name": "Python 3 (ipykernel)",
   "language": "python",
   "name": "python3"
  },
  "language_info": {
   "codemirror_mode": {
    "name": "ipython",
    "version": 3
   },
   "file_extension": ".py",
   "mimetype": "text/x-python",
   "name": "python",
   "nbconvert_exporter": "python",
   "pygments_lexer": "ipython3",
   "version": "3.9.7"
  }
 },
 "nbformat": 4,
 "nbformat_minor": 5
}
